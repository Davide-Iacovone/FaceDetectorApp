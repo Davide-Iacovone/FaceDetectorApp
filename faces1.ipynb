{
 "cells": [
  {
   "cell_type": "code",
   "execution_count": 142,
   "metadata": {},
   "outputs": [],
   "source": [
    "import cv2\n",
    "cascade = cv2.CascadeClassifier(\"Cascade.xml\")\n",
    "#print(\"Version: \", cv2.__version__)"
   ]
  },
  {
   "cell_type": "code",
   "execution_count": 149,
   "metadata": {},
   "outputs": [],
   "source": [
    "image1 = cv2.imread(\"face1.jpg\")\n",
    "#image1big = cv2.imread(\"IMG_8134.jpg\")\n",
    "#image1big = cv2.imread(\"IMG_7697.jpg\")\n",
    "#image1 = cv2.resize(image1big, (400, 540))\n",
    "gray_image = cv2.cvtColor(image1, cv2.COLOR_BGR2GRAY)\n",
    "cv2.imshow(\"image\", gray_image)\n",
    "cv2.waitKey(0)\n",
    "cv2.destroyAllWindows()"
   ]
  },
  {
   "cell_type": "code",
   "execution_count": 150,
   "metadata": {},
   "outputs": [
    {
     "name": "stdout",
     "output_type": "stream",
     "text": [
      "85 18 166 166\n"
     ]
    }
   ],
   "source": [
    "face = cascade.detectMultiScale(gray_image, scaleFactor = 1.3, minNeighbors = 5)\n",
    "\n",
    "for (x1, y1, x2, y2) in face:\n",
    "    print(x1, y1, x2, y2)\n",
    "\n",
    "rectangle_image = cv2.rectangle(image1, (x1, y1), (x1+x2, y1+y2), (0, 0, 255), 2)\n",
    "cv2.imshow(\"image with rectangle\", rectangle_image)\n",
    "cv2.waitKey(0)\n",
    "cv2.destroyAllWindows()"
   ]
  }
 ],
 "metadata": {
  "interpreter": {
   "hash": "a9a228dcef9f20d5ff052f6232b2a0e2e7e89e014fc8922c81bfda6b2161ca1c"
  },
  "kernelspec": {
   "display_name": "Python 3.9.0 64-bit",
   "language": "python",
   "name": "python3"
  },
  "language_info": {
   "codemirror_mode": {
    "name": "ipython",
    "version": 3
   },
   "file_extension": ".py",
   "mimetype": "text/x-python",
   "name": "python",
   "nbconvert_exporter": "python",
   "pygments_lexer": "ipython3",
   "version": "3.9.0"
  },
  "orig_nbformat": 4
 },
 "nbformat": 4,
 "nbformat_minor": 2
}
